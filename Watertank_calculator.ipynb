{
  "nbformat": 4,
  "nbformat_minor": 0,
  "metadata": {
    "colab": {
      "provenance": [],
      "authorship_tag": "ABX9TyPlUb2LWan41sVbJGIbul+f",
      "include_colab_link": true
    },
    "kernelspec": {
      "name": "python3",
      "display_name": "Python 3"
    },
    "language_info": {
      "name": "python"
    }
  },
  "cells": [
    {
      "cell_type": "markdown",
      "metadata": {
        "id": "view-in-github",
        "colab_type": "text"
      },
      "source": [
        "<a href=\"https://colab.research.google.com/github/MouseenaThasleem/Water-tank-project/blob/main/Watertank_calculator.ipynb\" target=\"_parent\"><img src=\"https://colab.research.google.com/assets/colab-badge.svg\" alt=\"Open In Colab\"/></a>"
      ]
    },
    {
      "cell_type": "code",
      "execution_count": 1,
      "metadata": {
        "id": "EWeIBbPASR2F"
      },
      "outputs": [],
      "source": [
        "# Save your Streamlit app code as a .py file\n",
        "\n",
        "code = '''\n",
        "import streamlit as st\n",
        "from sympy import symbols, sympify, lambdify\n",
        "from scipy.integrate import quad\n",
        "\n",
        "st.title(\"🚰 Water Tank Fill Time Calculator (Using Calculus)\")\n",
        "\n",
        "rate_input = st.text_input(\"Enter rate function R(t) (e.g. 4*t or 10 - t):\", \"4*t\")\n",
        "capacity = st.number_input(\"Enter tank capacity (liters):\", min_value=0.0, step=1.0, value=50.0)\n",
        "\n",
        "if st.button(\"Calculate Fill Time\"):\n",
        "    t = symbols('t')\n",
        "    try:\n",
        "        R = sympify(rate_input)\n",
        "        R_func = lambdify(t, R, modules=['numpy'])\n",
        "\n",
        "        def compute_volume(upto_t):\n",
        "            result, _ = quad(R_func, 0, upto_t)\n",
        "            return result\n",
        "\n",
        "        def find_fill_time(capacity, max_time=100, tolerance=0.01):\n",
        "            low = 0\n",
        "            high = max_time\n",
        "            while high - low > tolerance:\n",
        "                mid = (low + high) / 2\n",
        "                volume = compute_volume(mid)\n",
        "                if volume < capacity:\n",
        "                    low = mid\n",
        "                else:\n",
        "                    high = mid\n",
        "            return (low + high) / 2\n",
        "\n",
        "        time_required = find_fill_time(capacity)\n",
        "        st.success(f\"⏱️ Estimated time to fill the tank: **{time_required:.2f} minutes**\")\n",
        "\n",
        "    except Exception as e:\n",
        "        st.error(f\"Error: {e}\")\n",
        "'''\n",
        "\n",
        "with open(\"tank_simulator.py\", \"w\") as f:\n",
        "    f.write(code)"
      ]
    }
  ]
}